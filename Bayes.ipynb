{
 "cells": [
  {
   "attachments": {
    "1_LB-G6WBuswEfpg20FMighA.webp": {
     "image/webp": "[encoded data removed]"
    }
   },
   "cell_type": "markdown",
   "id": "polar-conclusion",
   "metadata": {},
   "source": [
    "![1_LB-G6WBuswEfpg20FMighA.webp](attachment:1_LB-G6WBuswEfpg20FMighA.webp)"
   ]
  },
  {
   "cell_type": "code",
   "execution_count": null,
   "id": "traditional-mills",
   "metadata": {},
   "outputs": [],
   "source": [
    "#Bayes' Theorem provides the probability of an event occuring based on previous knowledge\n",
    "\n",
    "\n",
    "def bayes(pA, pB, pBA):\n",
    "    return (pA * pBA) / pB\n",
    "\n",
    "# Get the probabilities as input from the user\n",
    "pA = float(input('Probability of A: '))\n",
    "pB = float(input('Probability of B: '))\n",
    "pBA = float(input('Probability of B given A: '))\n",
    "\n",
    "result = bayes(pA, pB, pBA) # call function\n",
    "print(f'Conditional probability P(A|B) is {result:.4f}')"
   ]
  }
 ],
 "metadata": {
  "kernelspec": {
   "display_name": "Python 3",
   "language": "python",
   "name": "python3"
  },
  "language_info": {
   "codemirror_mode": {
    "name": "ipython",
    "version": 3
   },
   "file_extension": ".py",
   "mimetype": "text/x-python",
   "name": "python",
   "nbconvert_exporter": "python",
   "pygments_lexer": "ipython3",
   "version": "3.7.16"
  }
 },
 "nbformat": 4,
 "nbformat_minor": 5
}
