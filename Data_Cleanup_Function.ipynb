{
 "cells": [
  {
   "cell_type": "code",
   "execution_count": null,
   "id": "cultural-suspension",
   "metadata": {},
   "outputs": [],
   "source": [
    "#This function takes in two csv files and performs various data transformations for data cleanup"
   ]
  },
  {
   "cell_type": "code",
   "execution_count": null,
   "id": "unlikely-tunisia",
   "metadata": {},
   "outputs": [],
   "source": [
    "\n",
    "import tkinter as tk\n",
    "import tkinter.filedialog as fd\n",
    "import pandas as pd\n",
    "\n",
    "#choose two files to merge for a data cleanup\n",
    "root = tk.Tk()\n",
    "files = fd.askopenfilenames(parent=root, title='Choose two files: ')\n",
    "\n",
    "\n",
    "#Function options: ID, Name, and types of joins\n",
    "def cleanup():\n",
    "    file_1 = pd.read_excel(files[0])\n",
    "    file_2 = pd.read_excel(files[1])\n",
    "    file_1_left_on_options = [\"Id\", \"Name\"]\n",
    "    file_2_right_on_options = [\"ID\", \"Name\"]\n",
    "    how_options = [\"left\", \"right\", \"outer\", \"inner\", \"cross\"]\n",
    "\n",
    "    # Use the same root window and create frames to organize the widgets\n",
    "    frame_left_on = tk.Frame(root)\n",
    "    frame_left_on.pack()\n",
    "    variable_left_on = tk.StringVar(root)\n",
    "    variable_left_on.set(file_1_left_on_options[0])\n",
    "    w_left_on = tk.OptionMenu(frame_left_on, variable_left_on, *file_1_left_on_options)\n",
    "    w_left_on.pack()\n",
    "\n",
    "    frame_right_on = tk.Frame(root)\n",
    "    frame_right_on.pack()\n",
    "    variable_right_on = tk.StringVar(root)\n",
    "    variable_right_on.set(file_2_right_on_options[0])\n",
    "    w_right_on = tk.OptionMenu(frame_right_on, variable_right_on, *file_2_right_on_options)\n",
    "    w_right_on.pack()\n",
    "\n",
    "    frame_how = tk.Frame(root)\n",
    "    frame_how.pack()\n",
    "    variable_how = tk.StringVar(root)\n",
    "    variable_how.set(how_options[0])\n",
    "    w_how = tk.OptionMenu(frame_how, variable_how, *how_options)\n",
    "    w_how.pack()\n",
    "\n",
    "    # Button to trigger the data merging\n",
    "    btn_merge = tk.Button(root, text=\"Merge\", command=merge_files)\n",
    "    btn_merge.pack()\n",
    "\n",
    "\n",
    "def merge_files():\n",
    "    file_1 = pd.read_excel(files[0])\n",
    "    file_2 = pd.read_excel(files[1])\n",
    "    left_on = variable_left_on.get()\n",
    "    right_on = variable_right_on.get()\n",
    "    how = variable_how.get()\n",
    "\n",
    "    df = pd.merge(\n",
    "        left=file_1,\n",
    "        right=file_2,\n",
    "        left_on=left_on,\n",
    "        right_on=right_on,\n",
    "        how=how\n",
    "    )\n",
    "\n",
    "    matched = df.to_csv(\"matched.csv\", index=False)\n",
    "    print(\"Files merged and saved to matched.csv\")\n",
    "\n",
    "\n",
    "cleanup()  # Call the cleanup function to create the UI\n",
    "root.mainloop()  # Start the main event loop"
   ]
  },
  {
   "cell_type": "code",
   "execution_count": null,
   "id": "pointed-commerce",
   "metadata": {},
   "outputs": [],
   "source": []
  }
 ],
 "metadata": {
  "kernelspec": {
   "display_name": "Python 3",
   "language": "python",
   "name": "python3"
  },
  "language_info": {
   "codemirror_mode": {
    "name": "ipython",
    "version": 3
   },
   "file_extension": ".py",
   "mimetype": "text/x-python",
   "name": "python",
   "nbconvert_exporter": "python",
   "pygments_lexer": "ipython3",
   "version": "3.7.16"
  }
 },
 "nbformat": 4,
 "nbformat_minor": 5
}
