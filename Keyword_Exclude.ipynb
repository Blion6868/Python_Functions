{
 "cells": [
  {
   "cell_type": "code",
   "execution_count": 2,
   "metadata": {},
   "outputs": [],
   "source": [
    "import pandas as pd\n",
    "\n",
    "#create a dataframe based on your catalog\n",
    "\n",
    "data = pd.read_csv(r'C:\\Users\\bryan\\Documents\\USA_Housing.csv')\n",
    "data = data.astype(str)\n",
    "df = pd.DataFrame(data, columns = [\"Date Added\",\"Track Item\",\"Retailer\",\"Retailer Item ID\",\"TLD\",\"UPC\",\"Title\",\n",
    "                                   \"Manufacturer\",\"Brand\",\"Client Product Group\",\"Category\",\"Subcategory\",\"Amazon Sub Category\",\"Segment\",\"Platform\"])"
   ]
  },
  {
   "cell_type": "code",
   "execution_count": 4,
   "metadata": {},
   "outputs": [],
   "source": [
    "#determine list of words that should be excluded from the catalog\n",
    "#function to mark any ASIN with corresponding excluded words\n",
    "\n",
    "excludes = {'chainsaw', 'pail', 'leaf', 'blower', 'genie', 'straightener', 'backpack', 'iron', 'curling', 'dog', 'cat', 'wig'}\n",
    "my_excludes = [set(exclude.lower().split()) for exclude in excludes]\n",
    "\n",
    "def is_match(title):\n",
    "    lowercase_title = title.lower().split()\n",
    "    return any(keywords.issubset(lowercase_title) for keywords in my_excludes)"
   ]
  },
  {
   "cell_type": "code",
   "execution_count": 3,
   "metadata": {},
   "outputs": [],
   "source": [
    "#add 'Z-Exclude' to ASIN to be removed\n",
    "\n",
    "df['match_titles'] = df['Title'].apply(is_match)\n",
    "df.loc[df['match_titles'] == True, 'Track Item'] = 'Z-EXCLUDE'\n",
    "df.to_csv('Excludes_5_27_20.csv',index=False)"
   ]
  },
  {
   "cell_type": "code",
   "execution_count": null,
   "metadata": {},
   "outputs": [],
   "source": []
  }
 ],
 "metadata": {
  "kernelspec": {
   "display_name": "Python 3",
   "language": "python",
   "name": "python3"
  },
  "language_info": {
   "codemirror_mode": {
    "name": "ipython",
    "version": 3
   },
   "file_extension": ".py",
   "mimetype": "text/x-python",
   "name": "python",
   "nbconvert_exporter": "python",
   "pygments_lexer": "ipython3",
   "version": "3.7.16"
  }
 },
 "nbformat": 4,
 "nbformat_minor": 2
}
