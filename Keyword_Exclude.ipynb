{
 "cells": [
  {
   "cell_type": "code",
   "execution_count": 5,
   "metadata": {},
   "outputs": [],
   "source": [
    "#This Function takes in a csv catalog and audits it for certain keywords to exclude (Z-exclude) and returns an audited catalog"
   ]
  },
  {
   "cell_type": "code",
   "execution_count": null,
   "metadata": {},
   "outputs": [],
   "source": [
    "import tkinter as tk\n",
    "from tkinter import filedialog as fd\n",
    "import pandas as pd\n",
    "\n",
    "def process_catalog(filename):\n",
    "    df = pd.read_csv(filename)\n",
    "\n",
    "    excludes = {'chainsaw', 'pail', 'leaf', 'blower', 'genie', 'straightener', 'backpack', 'iron', 'curling', 'dog', 'cat', 'wig'}\n",
    "    my_excludes = {exclude.lower() for exclude in excludes}\n",
    "\n",
    "    # Function to check if any keyword in my_excludes is present in the title\n",
    "    df['match_titles'] = df['Title'].apply(lambda title: any(keyword in title.lower() for keyword in my_excludes))\n",
    "\n",
    "    # Assign 'Z-EXCLUDE' to 'Track Item' for matching rows\n",
    "    df.loc[df['match_titles'], 'Track Item'] = 'Z-EXCLUDE'\n",
    "\n",
    "    # Export the DataFrame to a CSV file\n",
    "    df.to_csv('Excludes_5_27_23.csv', index=False)\n",
    "\n",
    "# To use the function, you can call it with the catalog filename as an argument\n",
    "root = tk.Tk()\n",
    "data = fd.askopenfilenames(parent=root, title='Choose a catalog: ')\n",
    "if data:\n",
    "    data = data[0]  # Select the first filename in case multiple files are chosen\n",
    "    process_catalog(data)"
   ]
  },
  {
   "cell_type": "code",
   "execution_count": null,
   "metadata": {},
   "outputs": [],
   "source": []
  }
 ],
 "metadata": {
  "kernelspec": {
   "display_name": "Python 3",
   "language": "python",
   "name": "python3"
  },
  "language_info": {
   "codemirror_mode": {
    "name": "ipython",
    "version": 3
   },
   "file_extension": ".py",
   "mimetype": "text/x-python",
   "name": "python",
   "nbconvert_exporter": "python",
   "pygments_lexer": "ipython3",
   "version": "3.7.16"
  }
 },
 "nbformat": 4,
 "nbformat_minor": 2
}
