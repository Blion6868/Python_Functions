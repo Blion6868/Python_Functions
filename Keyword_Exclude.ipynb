{
 "cells": [
  {
   "cell_type": "code",
   "execution_count": 5,
   "metadata": {},
   "outputs": [],
   "source": [
    "#This function takes in a csv catalog and audits it for certain keywords to exclude (Z-exclude) and returns an audited catalog"
   ]
  },
  {
   "cell_type": "code",
   "execution_count": 1,
   "metadata": {},
   "outputs": [],
   "source": [
    "import tkinter as tk\n",
    "from tkinter import filedialog as fd\n",
    "import pandas as pd\n",
    "\n",
    "def process_catalog(filename, additional_excludes=None):\n",
    "    try:\n",
    "        df = pd.read_csv(filename)\n",
    "    except pd.errors.EmptyDataError:\n",
    "        print(\"Error: The selected file is empty or does not contain valid data.\")\n",
    "        return\n",
    "\n",
    "    excludes = {'chainsaw', 'pail', 'leaf', 'blower', 'genie', 'straightener', 'backpack', 'iron', 'curling', 'dog', 'cat', 'wig'}\n",
    "\n",
    "    if additional_excludes:\n",
    "        excludes.update(additional_excludes)\n",
    "\n",
    "    my_excludes = {exclude.lower() for exclude in excludes}\n",
    "\n",
    "    try:\n",
    "        # Function to check if any keyword in my_excludes is present in the title\n",
    "        df['match_titles'] = df['Title'].apply(lambda title: any(keyword in title.lower() for keyword in my_excludes))\n",
    "\n",
    "        # Assign 'Z-EXCLUDE' to 'Track Item' for matching rows\n",
    "        df.loc[df['match_titles'], 'Track Item'] = 'Z-EXCLUDE'\n",
    "\n",
    "        # Export the DataFrame to a CSV file\n",
    "        df.to_csv('Excludes_5_27_23.csv', index=False)\n",
    "    except Exception as e:\n",
    "        print(f\"An error occurred during processing: {e}\")\n",
    "\n",
    "# To use the function, you can call it with the catalog filename and a list of additional exceptions as arguments\n",
    "root = tk.Tk()\n",
    "data = fd.askopenfilenames(parent=root, title='Choose a catalog: ')\n",
    "if data:\n",
    "    data = data[0]  # Select the first filename in case multiple files are chosen\n",
    "\n",
    "    # Define additional exceptions (add more keywords to this list as needed)\n",
    "    additional_excludes = {'new_exclude1', 'new_exclude2'}\n",
    "\n",
    "    process_catalog(data, additional_excludes)"
   ]
  },
  {
   "cell_type": "code",
   "execution_count": null,
   "metadata": {},
   "outputs": [],
   "source": []
  }
 ],
 "metadata": {
  "kernelspec": {
   "display_name": "Python 3",
   "language": "python",
   "name": "python3"
  },
  "language_info": {
   "codemirror_mode": {
    "name": "ipython",
    "version": 3
   },
   "file_extension": ".py",
   "mimetype": "text/x-python",
   "name": "python",
   "nbconvert_exporter": "python",
   "pygments_lexer": "ipython3",
   "version": "3.7.16"
  }
 },
 "nbformat": 4,
 "nbformat_minor": 2
}
