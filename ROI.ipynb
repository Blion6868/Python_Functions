{
 "cells": [
  {
   "cell_type": "code",
   "execution_count": 3,
   "id": "every-damages",
   "metadata": {},
   "outputs": [
    {
     "name": "stdout",
     "output_type": "stream",
     "text": [
      "ROI: 20.00%\n"
     ]
    }
   ],
   "source": [
    "#ROI function: determine your profit based on your initial investment\n",
    "\n",
    "def calculate_roi(profit, initial_investment):\n",
    "    \n",
    "    roi = (profit / initial_investment) * 100\n",
    "    return roi\n",
    "\n",
    "#Example\n",
    "profit = 10000.0  # Replace with your actual profit\n",
    "initial_investment = 50000.0  # Replace with your initial investment\n",
    "roi = calculate_roi(profit, initial_investment)\n",
    "print(f\"ROI: {roi:.2f}%\")\n",
    "\n",
    "\n",
    "\n",
    "\n",
    "\n"
   ]
  },
  {
   "cell_type": "code",
   "execution_count": null,
   "id": "atmospheric-playing",
   "metadata": {},
   "outputs": [],
   "source": []
  }
 ],
 "metadata": {
  "kernelspec": {
   "display_name": "Python 3",
   "language": "python",
   "name": "python3"
  },
  "language_info": {
   "codemirror_mode": {
    "name": "ipython",
    "version": 3
   },
   "file_extension": ".py",
   "mimetype": "text/x-python",
   "name": "python",
   "nbconvert_exporter": "python",
   "pygments_lexer": "ipython3",
   "version": "3.7.16"
  }
 },
 "nbformat": 4,
 "nbformat_minor": 5
}
