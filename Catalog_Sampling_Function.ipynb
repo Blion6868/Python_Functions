{
 "cells": [
  {
   "cell_type": "code",
   "execution_count": null,
   "id": "funded-nightmare",
   "metadata": {},
   "outputs": [],
   "source": [
    "import pandas as pd\n",
    "\n",
    "# Read the input file\n",
    "file_path = input(\"Enter the path of the file you want to audit: \")\n",
    "df = pd.read_csv(file_path)\n",
    "\n",
    "# Filter the dataframe based on a specific condition ('Track Item' == 'Y')\n",
    "df_to_audit = df[df['Track Item'] == 'Y']\n",
    "\n",
    "# Function to determine whether to sample the 'Category' or 'Subcategory'\n",
    "def determine_sampling_column(df_to_audit):\n",
    "    if df_to_audit['Subcategory'].isnull().all():\n",
    "        sampling_column = 'Subcategory'\n",
    "    else:\n",
    "        sampling_column = 'Category'\n",
    "    return sampling_column\n",
    "\n",
    "# Sub-function to perform the sampling based on the length of the catalog\n",
    "def sample_items(df_to_audit, sampling_column, sample_fraction):\n",
    "    if len(df_to_audit) == 0:\n",
    "        return None\n",
    "    else:\n",
    "        return df_to_audit.groupby(sampling_column).apply(lambda x: x.sample(frac=sample_fraction, random_state=42) if len(x) * sample_fraction >= 2 else x.sample(n=2, random_state=42))\n",
    "\n",
    "# Perform different levels of sampling based on catalog size\n",
    "def simple_sample(df_to_audit):\n",
    "    sampling_column = determine_sampling_column(df_to_audit)\n",
    "    if len(df_to_audit) >= 15000:\n",
    "        return sample_items(df_to_audit, sampling_column, 0.05)\n",
    "    elif len(df_to_audit) >= 10000:\n",
    "        return sample_items(df_to_audit, sampling_column, 0.03)\n",
    "    elif len(df_to_audit) >= 1500:\n",
    "        return sample_items(df_to_audit, sampling_column, 0.01)\n",
    "    else:\n",
    "        return None\n",
    "\n",
    "# Results of the sampling\n",
    "final_sample = simple_sample(df_to_audit)\n",
    "\n",
    "# Mark items that need to be audited as \"Audit\"\n",
    "df.loc[df['Retailer Item ID'].isin(final_sample['Retailer Item ID']), 'Track Item'] = 'Audit'\n",
    "\n",
    "# Convert results to a CSV file\n",
    "df.to_csv('AuditResults.csv', index=False)\n"
   ]
  },
  {
   "cell_type": "code",
   "execution_count": null,
   "id": "becoming-safety",
   "metadata": {},
   "outputs": [],
   "source": []
  },
  {
   "cell_type": "code",
   "execution_count": null,
   "id": "indonesian-museum",
   "metadata": {},
   "outputs": [],
   "source": []
  }
 ],
 "metadata": {
  "kernelspec": {
   "display_name": "Python 3",
   "language": "python",
   "name": "python3"
  },
  "language_info": {
   "codemirror_mode": {
    "name": "ipython",
    "version": 3
   },
   "file_extension": ".py",
   "mimetype": "text/x-python",
   "name": "python",
   "nbconvert_exporter": "python",
   "pygments_lexer": "ipython3",
   "version": "3.7.16"
  }
 },
 "nbformat": 4,
 "nbformat_minor": 5
}
